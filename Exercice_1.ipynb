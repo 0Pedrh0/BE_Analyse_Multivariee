{
 "cells": [
  {
   "cell_type": "markdown",
   "metadata": {},
   "source": [
    "        Exercice 1 : Axes et composantes principaux"
   ]
  },
  {
   "cell_type": "markdown",
   "metadata": {},
   "source": [
    "Les axes principaux du vecteur X, au sens de la PCA (Principle Component Analysis), sont les vecteurs propres de la matrice de covariance de X (Cov(X)).\n",
    "\n",
    "Si on note U la matrice des vecteurs propores de Cov(X), alors les composantes principales associées à X sont transpose(U)*X"
   ]
  },
  {
   "cell_type": "code",
   "execution_count": 2,
   "metadata": {},
   "outputs": [
    {
     "ename": "ModuleNotFoundError",
     "evalue": "No module named 'numpy'",
     "output_type": "error",
     "traceback": [
      "\u001b[0;31m---------------------------------------------------------------------------\u001b[0m",
      "\u001b[0;31mModuleNotFoundError\u001b[0m                       Traceback (most recent call last)",
      "Cell \u001b[0;32mIn[2], line 1\u001b[0m\n\u001b[0;32m----> 1\u001b[0m \u001b[38;5;28;01mimport\u001b[39;00m\u001b[38;5;250m \u001b[39m\u001b[38;5;21;01mnumpy\u001b[39;00m\u001b[38;5;250m \u001b[39m\u001b[38;5;28;01mas\u001b[39;00m\u001b[38;5;250m \u001b[39m\u001b[38;5;21;01mnp\u001b[39;00m\n\u001b[1;32m      2\u001b[0m \u001b[38;5;28;01mimport\u001b[39;00m\u001b[38;5;250m \u001b[39m\u001b[38;5;21;01mrandom\u001b[39;00m\u001b[38;5;250m \u001b[39m\u001b[38;5;28;01mas\u001b[39;00m\u001b[38;5;250m \u001b[39m\u001b[38;5;21;01mrd\u001b[39;00m\n\u001b[1;32m      3\u001b[0m \u001b[38;5;28;01mfrom\u001b[39;00m\u001b[38;5;250m \u001b[39m\u001b[38;5;21;01mmatplotlib\u001b[39;00m\u001b[38;5;250m \u001b[39m\u001b[38;5;28;01mimport\u001b[39;00m pyplot \u001b[38;5;28;01mas\u001b[39;00m plt\n",
      "\u001b[0;31mModuleNotFoundError\u001b[0m: No module named 'numpy'"
     ]
    }
   ],
   "source": [
    "import numpy as np\n",
    "import random as rd\n",
    "from matplotlib import pyplot as plt\n",
    "\n",
    "# Initialisation des variances des distributions\n",
    "sigma_1 = 1 # sigma_1 au carré\n",
    "sigma_2 = 1 # sigma_2 au carré\n",
    "\n",
    "# Génération des réalisations de X1 et X2\n",
    "n = 400 # Nombre de réalisations\n",
    "X_1 = [rd.uniform(-sigma_1*np.sqrt(3),sigma_1*np.sqrt(3)) for i in range(n)] # Loi unforme de variance sigma_1\n",
    "X_11 = [rd.uniform(-4*sigma_1*np.sqrt(3),4*sigma_1*np.sqrt(3)) for i in range(n)] # Loi unforme de variance sigma_1\n",
    "X_2 = [rd.normalvariate(0,sigma_2)for i in range(n)] # Loi normale de de variance sigma_2\n",
    "\n",
    "fig, axs = plt.subplots(1, 2, figsize=(18, 6))\n",
    "fig.suptitle('Nuage de points pour ' + str(n) + ' réalisations de X')\n",
    "\n",
    "axs[0].scatter(X_1,X_2)\n",
    "axs[0].set_title(\"Variance de X1 = 1\")\n",
    "axs[0].set_xlabel(\"X1\")\n",
    "axs[0].set_ylabel(\"X2\")\n",
    "\n",
    "axs[1].scatter(X_11,X_2)\n",
    "axs[1].set_title(\"Variance de X1 = 4\")\n",
    "axs[1].set_xlabel(\"X1\")\n",
    "axs[1].set_ylabel(\"X2\")\n",
    "\n",
    "plt.show()\n"
   ]
  },
  {
   "cell_type": "markdown",
   "metadata": {},
   "source": [
    "L'axe principal de la PCA semble être un l'axe horizontal "
   ]
  },
  {
   "cell_type": "code",
   "execution_count": null,
   "metadata": {},
   "outputs": [
    {
     "ename": "NameError",
     "evalue": "name 'np' is not defined",
     "output_type": "error",
     "traceback": [
      "\u001b[0;31m---------------------------------------------------------------------------\u001b[0m",
      "\u001b[0;31mNameError\u001b[0m                                 Traceback (most recent call last)",
      "Cell \u001b[0;32mIn[1], line 2\u001b[0m\n\u001b[1;32m      1\u001b[0m \u001b[38;5;66;03m# Génaration des réalisations de Y\u001b[39;00m\n\u001b[0;32m----> 2\u001b[0m theta \u001b[38;5;241m=\u001b[39m \u001b[43mnp\u001b[49m\u001b[38;5;241m.\u001b[39mpi\u001b[38;5;241m/\u001b[39m\u001b[38;5;241m4\u001b[39m \u001b[38;5;66;03m# Paramètre de la matrice de rotation\u001b[39;00m\n\u001b[1;32m      3\u001b[0m R \u001b[38;5;241m=\u001b[39m [[np\u001b[38;5;241m.\u001b[39mcos(theta), \u001b[38;5;241m-\u001b[39mnp\u001b[38;5;241m.\u001b[39msin(theta)],[np\u001b[38;5;241m.\u001b[39msin(theta),np\u001b[38;5;241m.\u001b[39mcos(theta)]] \u001b[38;5;66;03m# Matrice de rotation\u001b[39;00m\n\u001b[1;32m      4\u001b[0m X \u001b[38;5;241m=\u001b[39m [X_1,X_2] \n",
      "\u001b[0;31mNameError\u001b[0m: name 'np' is not defined"
     ]
    }
   ],
   "source": [
    "# Génaration des réalisations de Y\n",
    "theta = np.pi/4 # Paramètre de la matrice de rotation\n",
    "R = [[np.cos(theta), -np.sin(theta)],[np.sin(theta),np.cos(theta)]] # Matrice de rotation\n",
    "X = [X_1,X_2] \n",
    "Y = np.dot(R,X) # Création du vecteur Y = R*X\n",
    "\n",
    "fig, axs = plt.subplots(figsize=(15, 6))\n",
    "fig.suptitle('Nuage de points pour ' + str(n) + ' réalisations de Y')\n",
    "\n",
    "axs.scatter(X,Y)\n",
    "axs.set_xlabel(\"X\")\n",
    "axs.set_ylabel(\"Y\")\n",
    "\n",
    "plt.show()\n",
    "\n",
    "\n"
   ]
  },
  {
   "cell_type": "markdown",
   "metadata": {},
   "source": [
    "On remarque que la matrice de rotation R pivote les données d'un angle théta.\n"
   ]
  }
 ],
 "metadata": {
  "kernelspec": {
   "display_name": "Python 3",
   "language": "python",
   "name": "python3"
  },
  "language_info": {
   "codemirror_mode": {
    "name": "ipython",
    "version": 3
   },
   "file_extension": ".py",
   "mimetype": "text/x-python",
   "name": "python",
   "nbconvert_exporter": "python",
   "pygments_lexer": "ipython3",
   "version": "3.9.6"
  }
 },
 "nbformat": 4,
 "nbformat_minor": 2
}
