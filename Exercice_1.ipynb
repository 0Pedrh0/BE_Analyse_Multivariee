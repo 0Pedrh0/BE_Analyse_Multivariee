{
 "cells": [
  {
   "cell_type": "markdown",
   "metadata": {},
   "source": [
    "Exercice 1 : Axes et composantes principaux"
   ]
  },
  {
   "cell_type": "markdown",
   "metadata": {},
   "source": [
    "Les axes principaux du vecteur X, au sens de la PCA (Principle Component Analysis), sont les vecteurs propres de la matrice de covariance de X (Cov(X)).\n",
    "\n",
    "Si on note U la matrice des vecteurs propores de Cov(X), alors les composantes principales associées à X sont transpose(U)*X"
   ]
  }
 ],
 "metadata": {
  "kernelspec": {
   "display_name": "usr",
   "language": "python",
   "name": "python3"
  },
  "language_info": {
   "codemirror_mode": {
    "name": "ipython",
    "version": 3
   },
   "file_extension": ".py",
   "mimetype": "text/x-python",
   "name": "python",
   "nbconvert_exporter": "python",
   "pygments_lexer": "ipython3",
   "version": "3.12.3"
  }
 },
 "nbformat": 4,
 "nbformat_minor": 2
}
